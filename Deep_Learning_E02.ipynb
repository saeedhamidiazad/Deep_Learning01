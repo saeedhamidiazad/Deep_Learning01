{
  "cells": [
    {
      "cell_type": "markdown",
      "metadata": {
        "id": "sEbw1QoM6Mqm"
      },
      "source": [
        "# **Task 02_____CIFAR-10**\n",
        "\n",
        "\n",
        "Description CIFAR-10 is an established computer-vision dataset used for object recognition. It is a subset of the 80 million tiny images dataset and consists of 60,000 32x32 color images containing one of 10 object classes, with 6000 images per class. It was collected by Alex Krizhevsky, Vinod Nair, and Geoffrey Hinton.\n",
        "\n",
        "Kaggle is hosting a CIFAR-10 leaderboard for the machine learning community to use for fun and practice. You can see how your approach compares to the latest research methods on Rodrigo Benenson's classification results page."
      ]
    },
    {
      "cell_type": "code",
      "execution_count": 7,
      "metadata": {
        "id": "fV2igV_py5ok"
      },
      "outputs": [],
      "source": [
        "\n",
        "# baseline model with dropout on the cifar10 dataset\n",
        "import sys\n",
        "from matplotlib import pyplot\n",
        "from keras.datasets import cifar10\n",
        "from keras.utils import to_categorical\n",
        "from keras.models import Sequential\n",
        "from keras.layers import Conv2D\n",
        "from keras.layers import MaxPooling2D\n",
        "from keras.layers import AveragePooling2D\n",
        "from keras.layers import Dense\n",
        "from keras.layers import Flatten\n",
        "from keras.layers import Dropout\n",
        "from keras.optimizers import SGD"
      ]
    },
    {
      "cell_type": "code",
      "execution_count": 2,
      "metadata": {
        "id": "LSH05f8LzNkT",
        "colab": {
          "base_uri": "https://localhost:8080/"
        },
        "outputId": "b5666d29-d178-4ad9-8f0c-b13ed984da8b"
      },
      "outputs": [
        {
          "output_type": "stream",
          "name": "stdout",
          "text": [
            "Downloading data from https://www.cs.toronto.edu/~kriz/cifar-10-python.tar.gz\n",
            "170498071/170498071 [==============================] - 3s 0us/step\n"
          ]
        }
      ],
      "source": [
        "# load train and test dataset\n",
        "\n",
        "    # load dataset\n",
        "(x_train, trainY), (x_test, testY) = cifar10.load_data()\n",
        "    # one hot encode target values\n",
        "y_train = to_categorical(trainY)\n",
        "y_test = to_categorical(testY)\n"
      ]
    },
    {
      "cell_type": "code",
      "execution_count": 3,
      "metadata": {
        "id": "N7EJJOPBzayK"
      },
      "outputs": [],
      "source": [
        "# scale pixels\n",
        "\n",
        "x_train = x_train.astype('float32')\n",
        "x_test = x_test.astype('float32')\n",
        "\n",
        "# For normalization image pixel values are divided by 255\n",
        "gray_scale = 255\n",
        "x_train /= gray_scale\n",
        "x_test /= gray_scale"
      ]
    },
    {
      "cell_type": "code",
      "execution_count": null,
      "metadata": {
        "colab": {
          "base_uri": "https://localhost:8080/"
        },
        "id": "xft6R0Fo7Ptc",
        "outputId": "49183efb-2205-410d-f841-0d673043c4ad"
      },
      "outputs": [
        {
          "name": "stdout",
          "output_type": "stream",
          "text": [
            "Model: \"sequential\"\n",
            "_________________________________________________________________\n",
            " Layer (type)                Output Shape              Param #   \n",
            "=================================================================\n",
            " conv2d (Conv2D)             (None, 32, 32, 32)        896       \n",
            "                                                                 \n",
            " max_pooling2d (MaxPooling2  (None, 16, 16, 32)        0         \n",
            " D)                                                              \n",
            "                                                                 \n",
            " conv2d_1 (Conv2D)           (None, 16, 16, 64)        18496     \n",
            "                                                                 \n",
            " max_pooling2d_1 (MaxPoolin  (None, 8, 8, 64)          0         \n",
            " g2D)                                                            \n",
            "                                                                 \n",
            " conv2d_2 (Conv2D)           (None, 8, 8, 128)         73856     \n",
            "                                                                 \n",
            " max_pooling2d_2 (MaxPoolin  (None, 4, 4, 128)         0         \n",
            " g2D)                                                            \n",
            "                                                                 \n",
            " flatten (Flatten)           (None, 2048)              0         \n",
            "                                                                 \n",
            " dense (Dense)               (None, 128)               262272    \n",
            "                                                                 \n",
            " dense_1 (Dense)             (None, 10)                1290      \n",
            "                                                                 \n",
            "=================================================================\n",
            "Total params: 356810 (1.36 MB)\n",
            "Trainable params: 356810 (1.36 MB)\n",
            "Non-trainable params: 0 (0.00 Byte)\n",
            "_________________________________________________________________\n",
            "None\n"
          ]
        }
      ],
      "source": [
        "#CNN 01\n",
        "\n",
        "model = Sequential()\n",
        "\n",
        "model.add(Conv2D(32, (3, 3), activation='relu', kernel_initializer='he_uniform', padding='same', input_shape=(32, 32, 3)))\n",
        "model.add(MaxPooling2D((2, 2)))\n",
        "\n",
        "model.add(Conv2D(64, (3, 3), activation='relu', kernel_initializer='he_uniform', padding='same'))\n",
        "model.add(MaxPooling2D((2, 2)))\n",
        "\n",
        "model.add(Conv2D(128, (3, 3), activation='relu', kernel_initializer='he_uniform', padding='same'))\n",
        "model.add(MaxPooling2D((2, 2)))\n",
        "\n",
        "model.add(Flatten())\n",
        "model.add(Dense(128, activation='relu', kernel_initializer='he_uniform'))\n",
        "model.add(Dense(10, activation='softmax'))\n",
        "    # compile model\n",
        "opt = SGD(learning_rate=0.001, momentum=0.9)\n",
        "model.compile(optimizer=opt, loss='categorical_crossentropy', metrics=['accuracy'])\n",
        "print(model.summary())"
      ]
    },
    {
      "cell_type": "code",
      "execution_count": null,
      "metadata": {
        "colab": {
          "base_uri": "https://localhost:8080/"
        },
        "id": "qc07iPQrKiCr",
        "outputId": "ffede9e4-a9d9-4baa-e55d-84c4d72971ae"
      },
      "outputs": [
        {
          "name": "stdout",
          "output_type": "stream",
          "text": [
            "Epoch 1/25\n",
            "625/625 [==============================] - 66s 104ms/step - loss: 1.8417 - accuracy: 0.3382 - val_loss: 1.6149 - val_accuracy: 0.4230\n",
            "Epoch 2/25\n",
            "625/625 [==============================] - 56s 89ms/step - loss: 1.5155 - accuracy: 0.4524 - val_loss: 1.4875 - val_accuracy: 0.4708\n",
            "Epoch 3/25\n",
            "625/625 [==============================] - 57s 91ms/step - loss: 1.3837 - accuracy: 0.5038 - val_loss: 1.3904 - val_accuracy: 0.5130\n",
            "Epoch 4/25\n",
            "625/625 [==============================] - 60s 96ms/step - loss: 1.2961 - accuracy: 0.5400 - val_loss: 1.2618 - val_accuracy: 0.5554\n",
            "Epoch 5/25\n",
            "625/625 [==============================] - 55s 88ms/step - loss: 1.2203 - accuracy: 0.5692 - val_loss: 1.2437 - val_accuracy: 0.5641\n",
            "Epoch 6/25\n",
            "625/625 [==============================] - 56s 89ms/step - loss: 1.1499 - accuracy: 0.5952 - val_loss: 1.2380 - val_accuracy: 0.5613\n",
            "Epoch 7/25\n",
            "625/625 [==============================] - 57s 90ms/step - loss: 1.0926 - accuracy: 0.6169 - val_loss: 1.1244 - val_accuracy: 0.6010\n",
            "Epoch 8/25\n",
            "625/625 [==============================] - 55s 88ms/step - loss: 1.0489 - accuracy: 0.6333 - val_loss: 1.1159 - val_accuracy: 0.6019\n",
            "Epoch 9/25\n",
            "625/625 [==============================] - 56s 90ms/step - loss: 1.0019 - accuracy: 0.6510 - val_loss: 1.0782 - val_accuracy: 0.6262\n",
            "Epoch 10/25\n",
            "625/625 [==============================] - 56s 90ms/step - loss: 0.9592 - accuracy: 0.6650 - val_loss: 1.0272 - val_accuracy: 0.6417\n",
            "Epoch 11/25\n",
            "625/625 [==============================] - 56s 90ms/step - loss: 0.9209 - accuracy: 0.6798 - val_loss: 1.0651 - val_accuracy: 0.6343\n",
            "Epoch 12/25\n",
            "625/625 [==============================] - 56s 89ms/step - loss: 0.8852 - accuracy: 0.6948 - val_loss: 0.9816 - val_accuracy: 0.6604\n",
            "Epoch 13/25\n",
            "625/625 [==============================] - 56s 89ms/step - loss: 0.8571 - accuracy: 0.7027 - val_loss: 0.9812 - val_accuracy: 0.6647\n",
            "Epoch 14/25\n",
            "625/625 [==============================] - 56s 90ms/step - loss: 0.8198 - accuracy: 0.7171 - val_loss: 0.9780 - val_accuracy: 0.6672\n",
            "Epoch 15/25\n",
            "625/625 [==============================] - 56s 90ms/step - loss: 0.7947 - accuracy: 0.7258 - val_loss: 0.9494 - val_accuracy: 0.6747\n",
            "Epoch 16/25\n",
            "625/625 [==============================] - 56s 90ms/step - loss: 0.7596 - accuracy: 0.7370 - val_loss: 0.9425 - val_accuracy: 0.6789\n",
            "Epoch 17/25\n",
            "625/625 [==============================] - 56s 90ms/step - loss: 0.7412 - accuracy: 0.7430 - val_loss: 0.9352 - val_accuracy: 0.6803\n",
            "Epoch 18/25\n",
            "625/625 [==============================] - 56s 89ms/step - loss: 0.7080 - accuracy: 0.7562 - val_loss: 0.9447 - val_accuracy: 0.6843\n",
            "Epoch 19/25\n",
            "625/625 [==============================] - 56s 89ms/step - loss: 0.6830 - accuracy: 0.7633 - val_loss: 0.9378 - val_accuracy: 0.6885\n",
            "Epoch 20/25\n",
            "625/625 [==============================] - 56s 89ms/step - loss: 0.6578 - accuracy: 0.7730 - val_loss: 0.9580 - val_accuracy: 0.6749\n",
            "Epoch 21/25\n",
            "625/625 [==============================] - 56s 90ms/step - loss: 0.6325 - accuracy: 0.7823 - val_loss: 0.9496 - val_accuracy: 0.6860\n",
            "Epoch 22/25\n",
            "625/625 [==============================] - 56s 90ms/step - loss: 0.6076 - accuracy: 0.7904 - val_loss: 0.9200 - val_accuracy: 0.6958\n",
            "Epoch 23/25\n",
            "625/625 [==============================] - 56s 89ms/step - loss: 0.5865 - accuracy: 0.7978 - val_loss: 0.9516 - val_accuracy: 0.6890\n",
            "Epoch 24/25\n",
            "625/625 [==============================] - 55s 89ms/step - loss: 0.5637 - accuracy: 0.8062 - val_loss: 0.9314 - val_accuracy: 0.6941\n",
            "Epoch 25/25\n",
            "625/625 [==============================] - 57s 91ms/step - loss: 0.5329 - accuracy: 0.8158 - val_loss: 0.9359 - val_accuracy: 0.6973\n"
          ]
        },
        {
          "data": {
            "text/plain": [
              "<keras.src.callbacks.History at 0x7d9f2976bf40>"
            ]
          },
          "execution_count": 5,
          "metadata": {},
          "output_type": "execute_result"
        }
      ],
      "source": [
        "model.fit(x_train, y_train, epochs=25, batch_size=64, validation_split=0.2)"
      ]
    },
    {
      "cell_type": "code",
      "execution_count": null,
      "metadata": {
        "colab": {
          "base_uri": "https://localhost:8080/"
        },
        "id": "LqCBsa5aKopx",
        "outputId": "16f1c8bb-7dee-469a-9172-385b7efb72b2"
      },
      "outputs": [
        {
          "name": "stdout",
          "output_type": "stream",
          "text": [
            "> 68.910\n"
          ]
        }
      ],
      "source": [
        "_, acc = model.evaluate(x_test, y_test, verbose=0)\n",
        "print('> %.3f' % (acc * 100.0))"
      ]
    },
    {
      "cell_type": "code",
      "execution_count": null,
      "metadata": {
        "colab": {
          "base_uri": "https://localhost:8080/"
        },
        "id": "gL3fn0Qd2vWF",
        "outputId": "67a8b574-fc8c-4fd9-a227-d771104087ff"
      },
      "outputs": [
        {
          "name": "stdout",
          "output_type": "stream",
          "text": [
            "Model: \"sequential_1\"\n",
            "_________________________________________________________________\n",
            " Layer (type)                Output Shape              Param #   \n",
            "=================================================================\n",
            " conv2d_3 (Conv2D)           (None, 32, 32, 32)        896       \n",
            "                                                                 \n",
            " dropout (Dropout)           (None, 32, 32, 32)        0         \n",
            "                                                                 \n",
            " conv2d_4 (Conv2D)           (None, 32, 32, 32)        9248      \n",
            "                                                                 \n",
            " max_pooling2d_3 (MaxPoolin  (None, 16, 16, 32)        0         \n",
            " g2D)                                                            \n",
            "                                                                 \n",
            " conv2d_5 (Conv2D)           (None, 16, 16, 64)        18496     \n",
            "                                                                 \n",
            " dropout_1 (Dropout)         (None, 16, 16, 64)        0         \n",
            "                                                                 \n",
            " conv2d_6 (Conv2D)           (None, 16, 16, 64)        36928     \n",
            "                                                                 \n",
            " max_pooling2d_4 (MaxPoolin  (None, 8, 8, 64)          0         \n",
            " g2D)                                                            \n",
            "                                                                 \n",
            " conv2d_7 (Conv2D)           (None, 8, 8, 128)         73856     \n",
            "                                                                 \n",
            " dropout_2 (Dropout)         (None, 8, 8, 128)         0         \n",
            "                                                                 \n",
            " conv2d_8 (Conv2D)           (None, 8, 8, 128)         147584    \n",
            "                                                                 \n",
            " max_pooling2d_5 (MaxPoolin  (None, 4, 4, 128)         0         \n",
            " g2D)                                                            \n",
            "                                                                 \n",
            " flatten_1 (Flatten)         (None, 2048)              0         \n",
            "                                                                 \n",
            " dropout_3 (Dropout)         (None, 2048)              0         \n",
            "                                                                 \n",
            " dense_2 (Dense)             (None, 1024)              2098176   \n",
            "                                                                 \n",
            " dropout_4 (Dropout)         (None, 1024)              0         \n",
            "                                                                 \n",
            " dense_3 (Dense)             (None, 512)               524800    \n",
            "                                                                 \n",
            " dropout_5 (Dropout)         (None, 512)               0         \n",
            "                                                                 \n",
            " dense_4 (Dense)             (None, 10)                5130      \n",
            "                                                                 \n",
            "=================================================================\n",
            "Total params: 2915114 (11.12 MB)\n",
            "Trainable params: 2915114 (11.12 MB)\n",
            "Non-trainable params: 0 (0.00 Byte)\n",
            "_________________________________________________________________\n",
            "None\n"
          ]
        }
      ],
      "source": [
        "#CNN 02\n",
        "\n",
        "model = Sequential()\n",
        "\n",
        "model.add(Conv2D(32,(3,3),input_shape=(32,32,3),padding='same',activation='relu'))\n",
        "model.add(Dropout(0.2))\n",
        "\n",
        "model.add(Conv2D(32,(3,3),activation='relu',padding='same'))\n",
        "model.add(MaxPooling2D(pool_size=(2,2)))\n",
        "\n",
        "model.add(Conv2D(64,(3,3),activation='relu',padding='same'))\n",
        "model.add(Dropout(0.2))\n",
        "\n",
        "model.add(Conv2D(64,(3,3),activation='relu',padding='same'))\n",
        "model.add(MaxPooling2D(pool_size=(2,2)))\n",
        "\n",
        "model.add(Conv2D(128,(3,3),activation='relu',padding='same'))\n",
        "model.add(Dropout(0.2))\n",
        "\n",
        "model.add(Conv2D(128,(3,3),activation='relu',padding='same'))\n",
        "model.add(MaxPooling2D(pool_size=(2,2)))\n",
        "\n",
        "model.add(Flatten())\n",
        "model.add(Dropout(0.2))\n",
        "\n",
        "model.add(Dense(1024,activation='relu'))\n",
        "model.add(Dropout(0.2))\n",
        "\n",
        "model.add(Dense(512,activation='relu'))\n",
        "model.add(Dropout(0.2))\n",
        "\n",
        "model.add(Dense(10,activation='softmax'))\n",
        "\n",
        "# Compile model\n",
        "optimizer = SGD(learning_rate=0.001, momentum=0.9, nesterov=False)\n",
        "model.compile(loss= 'categorical_crossentropy' , optimizer=optimizer, metrics=[ 'accuracy' ])\n",
        "print(model.summary())"
      ]
    },
    {
      "cell_type": "code",
      "execution_count": null,
      "metadata": {
        "colab": {
          "base_uri": "https://localhost:8080/"
        },
        "id": "D4cE-_ZxKyWm",
        "outputId": "5b18d236-bf47-44c6-c481-22d28cb793f8"
      },
      "outputs": [
        {
          "name": "stdout",
          "output_type": "stream",
          "text": [
            "Epoch 1/25\n",
            "625/625 [==============================] - 215s 342ms/step - loss: 2.2716 - accuracy: 0.1343 - val_loss: 2.2046 - val_accuracy: 0.2238\n",
            "Epoch 2/25\n",
            "625/625 [==============================] - 213s 340ms/step - loss: 2.0386 - accuracy: 0.2510 - val_loss: 2.0408 - val_accuracy: 0.2558\n",
            "Epoch 3/25\n",
            "625/625 [==============================] - 222s 355ms/step - loss: 1.9172 - accuracy: 0.3009 - val_loss: 1.8687 - val_accuracy: 0.3351\n",
            "Epoch 4/25\n",
            "625/625 [==============================] - 213s 341ms/step - loss: 1.7834 - accuracy: 0.3521 - val_loss: 1.7520 - val_accuracy: 0.3757\n",
            "Epoch 5/25\n",
            "625/625 [==============================] - 213s 341ms/step - loss: 1.6906 - accuracy: 0.3814 - val_loss: 1.6841 - val_accuracy: 0.3977\n",
            "Epoch 6/25\n",
            "625/625 [==============================] - 212s 339ms/step - loss: 1.6175 - accuracy: 0.4080 - val_loss: 1.5693 - val_accuracy: 0.4346\n",
            "Epoch 7/25\n",
            "625/625 [==============================] - 211s 338ms/step - loss: 1.5541 - accuracy: 0.4349 - val_loss: 1.5546 - val_accuracy: 0.4439\n",
            "Epoch 8/25\n",
            "625/625 [==============================] - 232s 371ms/step - loss: 1.5042 - accuracy: 0.4471 - val_loss: 1.5186 - val_accuracy: 0.4530\n",
            "Epoch 9/25\n",
            "625/625 [==============================] - 230s 368ms/step - loss: 1.4577 - accuracy: 0.4678 - val_loss: 1.4155 - val_accuracy: 0.4841\n",
            "Epoch 10/25\n",
            "625/625 [==============================] - 214s 343ms/step - loss: 1.4195 - accuracy: 0.4821 - val_loss: 1.4027 - val_accuracy: 0.4982\n",
            "Epoch 11/25\n",
            "625/625 [==============================] - 214s 343ms/step - loss: 1.3812 - accuracy: 0.4995 - val_loss: 1.3309 - val_accuracy: 0.5234\n",
            "Epoch 12/25\n",
            "625/625 [==============================] - 215s 344ms/step - loss: 1.3476 - accuracy: 0.5124 - val_loss: 1.3011 - val_accuracy: 0.5403\n",
            "Epoch 13/25\n",
            "625/625 [==============================] - 214s 342ms/step - loss: 1.3114 - accuracy: 0.5271 - val_loss: 1.3167 - val_accuracy: 0.5362\n",
            "Epoch 14/25\n",
            "625/625 [==============================] - 214s 343ms/step - loss: 1.2798 - accuracy: 0.5394 - val_loss: 1.2185 - val_accuracy: 0.5754\n",
            "Epoch 15/25\n",
            "625/625 [==============================] - 223s 358ms/step - loss: 1.2434 - accuracy: 0.5538 - val_loss: 1.2013 - val_accuracy: 0.5789\n",
            "Epoch 16/25\n",
            "625/625 [==============================] - 215s 344ms/step - loss: 1.2155 - accuracy: 0.5642 - val_loss: 1.1657 - val_accuracy: 0.5860\n",
            "Epoch 17/25\n",
            "625/625 [==============================] - 226s 362ms/step - loss: 1.1844 - accuracy: 0.5747 - val_loss: 1.1393 - val_accuracy: 0.6009\n",
            "Epoch 18/25\n",
            "625/625 [==============================] - 223s 357ms/step - loss: 1.1488 - accuracy: 0.5866 - val_loss: 1.0966 - val_accuracy: 0.6182\n",
            "Epoch 19/25\n",
            "625/625 [==============================] - 227s 363ms/step - loss: 1.1234 - accuracy: 0.5978 - val_loss: 1.0863 - val_accuracy: 0.6243\n",
            "Epoch 20/25\n",
            "625/625 [==============================] - 224s 359ms/step - loss: 1.0931 - accuracy: 0.6131 - val_loss: 1.0389 - val_accuracy: 0.6348\n",
            "Epoch 21/25\n",
            "625/625 [==============================] - 212s 340ms/step - loss: 1.0606 - accuracy: 0.6212 - val_loss: 1.0325 - val_accuracy: 0.6415\n",
            "Epoch 22/25\n",
            "625/625 [==============================] - 212s 340ms/step - loss: 1.0348 - accuracy: 0.6326 - val_loss: 1.0273 - val_accuracy: 0.6359\n",
            "Epoch 23/25\n",
            "625/625 [==============================] - 211s 337ms/step - loss: 1.0049 - accuracy: 0.6408 - val_loss: 0.9781 - val_accuracy: 0.6553\n",
            "Epoch 24/25\n",
            "625/625 [==============================] - 209s 335ms/step - loss: 0.9893 - accuracy: 0.6476 - val_loss: 0.9590 - val_accuracy: 0.6643\n",
            "Epoch 25/25\n",
            "625/625 [==============================] - 210s 337ms/step - loss: 0.9558 - accuracy: 0.6590 - val_loss: 0.9103 - val_accuracy: 0.6822\n"
          ]
        },
        {
          "data": {
            "text/plain": [
              "<keras.src.callbacks.History at 0x7d9fc0164d90>"
            ]
          },
          "execution_count": 8,
          "metadata": {},
          "output_type": "execute_result"
        }
      ],
      "source": [
        "model.fit(x_train, y_train, epochs=25, batch_size=64, validation_split=0.2)"
      ]
    },
    {
      "cell_type": "code",
      "execution_count": null,
      "metadata": {
        "colab": {
          "base_uri": "https://localhost:8080/"
        },
        "id": "3uxeF8F_Kyzz",
        "outputId": "9821f817-3ce3-496b-910e-b8ca753e6293"
      },
      "outputs": [
        {
          "name": "stdout",
          "output_type": "stream",
          "text": [
            "> 67.290\n"
          ]
        }
      ],
      "source": [
        "_, acc = model.evaluate(x_test, y_test, verbose=0)\n",
        "print('> %.3f' % (acc * 100.0))"
      ]
    },
    {
      "cell_type": "code",
      "execution_count": 4,
      "metadata": {
        "colab": {
          "base_uri": "https://localhost:8080/"
        },
        "id": "2h-A1rMO0f7t",
        "outputId": "a3005f62-bc51-45c5-c5e0-ef6bca47d0a4"
      },
      "outputs": [
        {
          "output_type": "stream",
          "name": "stdout",
          "text": [
            "Model: \"sequential\"\n",
            "_________________________________________________________________\n",
            " Layer (type)                Output Shape              Param #   \n",
            "=================================================================\n",
            " conv2d (Conv2D)             (None, 32, 32, 32)        896       \n",
            "                                                                 \n",
            " conv2d_1 (Conv2D)           (None, 32, 32, 32)        9248      \n",
            "                                                                 \n",
            " max_pooling2d (MaxPooling2  (None, 16, 16, 32)        0         \n",
            " D)                                                              \n",
            "                                                                 \n",
            " dropout (Dropout)           (None, 16, 16, 32)        0         \n",
            "                                                                 \n",
            " conv2d_2 (Conv2D)           (None, 16, 16, 64)        18496     \n",
            "                                                                 \n",
            " conv2d_3 (Conv2D)           (None, 16, 16, 64)        36928     \n",
            "                                                                 \n",
            " max_pooling2d_1 (MaxPoolin  (None, 8, 8, 64)          0         \n",
            " g2D)                                                            \n",
            "                                                                 \n",
            " dropout_1 (Dropout)         (None, 8, 8, 64)          0         \n",
            "                                                                 \n",
            " conv2d_4 (Conv2D)           (None, 8, 8, 128)         73856     \n",
            "                                                                 \n",
            " conv2d_5 (Conv2D)           (None, 8, 8, 128)         147584    \n",
            "                                                                 \n",
            " max_pooling2d_2 (MaxPoolin  (None, 4, 4, 128)         0         \n",
            " g2D)                                                            \n",
            "                                                                 \n",
            " dropout_2 (Dropout)         (None, 4, 4, 128)         0         \n",
            "                                                                 \n",
            " flatten (Flatten)           (None, 2048)              0         \n",
            "                                                                 \n",
            " dense (Dense)               (None, 128)               262272    \n",
            "                                                                 \n",
            " dropout_3 (Dropout)         (None, 128)               0         \n",
            "                                                                 \n",
            " dense_1 (Dense)             (None, 10)                1290      \n",
            "                                                                 \n",
            "=================================================================\n",
            "Total params: 550570 (2.10 MB)\n",
            "Trainable params: 550570 (2.10 MB)\n",
            "Non-trainable params: 0 (0.00 Byte)\n",
            "_________________________________________________________________\n",
            "None\n"
          ]
        }
      ],
      "source": [
        "#VGG1\n",
        "model = Sequential()\n",
        "model.add(Conv2D(32, (3, 3), activation='relu', kernel_initializer='he_uniform', padding='same', input_shape=(32, 32, 3)))\n",
        "model.add(Conv2D(32, (3, 3), activation='relu', kernel_initializer='he_uniform', padding='same'))\n",
        "model.add(MaxPooling2D((2, 2)))\n",
        "model.add(Dropout(0.2))\n",
        "model.add(Conv2D(64, (3, 3), activation='relu', kernel_initializer='he_uniform', padding='same'))\n",
        "model.add(Conv2D(64, (3, 3), activation='relu', kernel_initializer='he_uniform', padding='same'))\n",
        "model.add(MaxPooling2D((2, 2)))\n",
        "model.add(Dropout(0.2))\n",
        "model.add(Conv2D(128, (3, 3), activation='relu', kernel_initializer='he_uniform', padding='same'))\n",
        "model.add(Conv2D(128, (3, 3), activation='relu', kernel_initializer='he_uniform', padding='same'))\n",
        "model.add(MaxPooling2D((2, 2)))\n",
        "model.add(Dropout(0.2))\n",
        "model.add(Flatten())\n",
        "model.add(Dense(128, activation='relu', kernel_initializer='he_uniform'))\n",
        "model.add(Dropout(0.2))\n",
        "model.add(Dense(10, activation='softmax'))\n",
        "    # compile model\n",
        "opt = SGD(learning_rate=0.001, momentum=0.9)\n",
        "model.compile(optimizer=opt, loss='categorical_crossentropy', metrics=['accuracy'])\n",
        "print(model.summary())"
      ]
    },
    {
      "cell_type": "code",
      "execution_count": null,
      "metadata": {
        "colab": {
          "base_uri": "https://localhost:8080/"
        },
        "id": "wm2Z-Ohk800m",
        "outputId": "75e9ca35-edc7-4271-e230-e03ca54321d7"
      },
      "outputs": [
        {
          "name": "stdout",
          "output_type": "stream",
          "text": [
            "Epoch 1/25\n",
            "625/625 [==============================] - 196s 311ms/step - loss: 2.1485 - accuracy: 0.1924 - val_loss: 1.8184 - val_accuracy: 0.3494\n",
            "Epoch 2/25\n",
            "625/625 [==============================] - 183s 292ms/step - loss: 1.7739 - accuracy: 0.3429 - val_loss: 1.6284 - val_accuracy: 0.4053\n",
            "Epoch 3/25\n",
            "625/625 [==============================] - 182s 292ms/step - loss: 1.6404 - accuracy: 0.3943 - val_loss: 1.5379 - val_accuracy: 0.4385\n",
            "Epoch 4/25\n",
            "625/625 [==============================] - 182s 291ms/step - loss: 1.5356 - accuracy: 0.4361 - val_loss: 1.4515 - val_accuracy: 0.4732\n",
            "Epoch 5/25\n",
            "625/625 [==============================] - 191s 306ms/step - loss: 1.4558 - accuracy: 0.4681 - val_loss: 1.3542 - val_accuracy: 0.5141\n",
            "Epoch 6/25\n",
            "625/625 [==============================] - 181s 290ms/step - loss: 1.4020 - accuracy: 0.4897 - val_loss: 1.2895 - val_accuracy: 0.5367\n",
            "Epoch 7/25\n",
            "625/625 [==============================] - 182s 290ms/step - loss: 1.3506 - accuracy: 0.5123 - val_loss: 1.2712 - val_accuracy: 0.5417\n",
            "Epoch 8/25\n",
            "625/625 [==============================] - 191s 306ms/step - loss: 1.2951 - accuracy: 0.5343 - val_loss: 1.2627 - val_accuracy: 0.5494\n",
            "Epoch 9/25\n",
            "625/625 [==============================] - 182s 292ms/step - loss: 1.2534 - accuracy: 0.5497 - val_loss: 1.1474 - val_accuracy: 0.5931\n",
            "Epoch 10/25\n",
            "625/625 [==============================] - 182s 291ms/step - loss: 1.2071 - accuracy: 0.5635 - val_loss: 1.1257 - val_accuracy: 0.6023\n",
            "Epoch 11/25\n",
            "625/625 [==============================] - 182s 290ms/step - loss: 1.1644 - accuracy: 0.5839 - val_loss: 1.0571 - val_accuracy: 0.6231\n",
            "Epoch 12/25\n",
            "625/625 [==============================] - 182s 291ms/step - loss: 1.1246 - accuracy: 0.6003 - val_loss: 1.0585 - val_accuracy: 0.6226\n",
            "Epoch 13/25\n",
            "625/625 [==============================] - 182s 292ms/step - loss: 1.0851 - accuracy: 0.6141 - val_loss: 0.9776 - val_accuracy: 0.6518\n",
            "Epoch 14/25\n",
            "625/625 [==============================] - 182s 291ms/step - loss: 1.0520 - accuracy: 0.6260 - val_loss: 0.9409 - val_accuracy: 0.6662\n",
            "Epoch 15/25\n",
            "625/625 [==============================] - 183s 292ms/step - loss: 1.0157 - accuracy: 0.6412 - val_loss: 0.9294 - val_accuracy: 0.6696\n",
            "Epoch 16/25\n",
            "625/625 [==============================] - 182s 291ms/step - loss: 0.9850 - accuracy: 0.6497 - val_loss: 0.9037 - val_accuracy: 0.6792\n",
            "Epoch 17/25\n",
            "625/625 [==============================] - 182s 291ms/step - loss: 0.9567 - accuracy: 0.6614 - val_loss: 0.8593 - val_accuracy: 0.7016\n",
            "Epoch 18/25\n",
            "625/625 [==============================] - 182s 291ms/step - loss: 0.9256 - accuracy: 0.6730 - val_loss: 0.8415 - val_accuracy: 0.6989\n",
            "Epoch 19/25\n",
            "625/625 [==============================] - 192s 307ms/step - loss: 0.9076 - accuracy: 0.6778 - val_loss: 0.9046 - val_accuracy: 0.6827\n",
            "Epoch 20/25\n",
            "625/625 [==============================] - 191s 306ms/step - loss: 0.8803 - accuracy: 0.6884 - val_loss: 0.8196 - val_accuracy: 0.7148\n",
            "Epoch 21/25\n",
            "625/625 [==============================] - 182s 291ms/step - loss: 0.8604 - accuracy: 0.6962 - val_loss: 0.8231 - val_accuracy: 0.7091\n",
            "Epoch 22/25\n",
            "625/625 [==============================] - 182s 291ms/step - loss: 0.8429 - accuracy: 0.7025 - val_loss: 0.7953 - val_accuracy: 0.7207\n",
            "Epoch 23/25\n",
            "625/625 [==============================] - 181s 290ms/step - loss: 0.8160 - accuracy: 0.7127 - val_loss: 0.7497 - val_accuracy: 0.7386\n",
            "Epoch 24/25\n",
            "625/625 [==============================] - 181s 290ms/step - loss: 0.8011 - accuracy: 0.7168 - val_loss: 0.7542 - val_accuracy: 0.7366\n",
            "Epoch 25/25\n",
            "625/625 [==============================] - 181s 289ms/step - loss: 0.7831 - accuracy: 0.7232 - val_loss: 0.7247 - val_accuracy: 0.7501\n"
          ]
        },
        {
          "data": {
            "text/plain": [
              "<keras.src.callbacks.History at 0x7d9f27419b70>"
            ]
          },
          "execution_count": 11,
          "metadata": {},
          "output_type": "execute_result"
        }
      ],
      "source": [
        "model.fit(x_train, y_train, epochs=25, batch_size=64, validation_split=0.2)"
      ]
    },
    {
      "cell_type": "code",
      "execution_count": null,
      "metadata": {
        "colab": {
          "base_uri": "https://localhost:8080/"
        },
        "id": "taVVdCFb1QTW",
        "outputId": "b490906a-a9c3-4448-c65a-f0c95561beea"
      },
      "outputs": [
        {
          "name": "stdout",
          "output_type": "stream",
          "text": [
            "> 73.650\n"
          ]
        }
      ],
      "source": [
        "_, acc = model.evaluate(x_test, y_test, verbose=0)\n",
        "print('> %.3f' % (acc * 100.0))"
      ]
    },
    {
      "cell_type": "code",
      "execution_count": 10,
      "metadata": {
        "colab": {
          "base_uri": "https://localhost:8080/"
        },
        "id": "OR533R-TlAwN",
        "outputId": "cd669aab-a7e4-48f0-d691-5317ec0f929c"
      },
      "outputs": [
        {
          "output_type": "stream",
          "name": "stdout",
          "text": [
            "Model: \"sequential_2\"\n",
            "_________________________________________________________________\n",
            " Layer (type)                Output Shape              Param #   \n",
            "=================================================================\n",
            " conv2d_9 (Conv2D)           (None, 32, 32, 6)         456       \n",
            "                                                                 \n",
            " average_pooling2d_2 (Avera  (None, 16, 16, 6)         0         \n",
            " gePooling2D)                                                    \n",
            "                                                                 \n",
            " conv2d_10 (Conv2D)          (None, 12, 12, 16)        2416      \n",
            "                                                                 \n",
            " average_pooling2d_3 (Avera  (None, 6, 6, 16)          0         \n",
            " gePooling2D)                                                    \n",
            "                                                                 \n",
            " conv2d_11 (Conv2D)          (None, 2, 2, 120)         48120     \n",
            "                                                                 \n",
            " flatten_2 (Flatten)         (None, 480)               0         \n",
            "                                                                 \n",
            " dense_4 (Dense)             (None, 84)                40404     \n",
            "                                                                 \n",
            " dense_5 (Dense)             (None, 10)                850       \n",
            "                                                                 \n",
            "=================================================================\n",
            "Total params: 92246 (360.34 KB)\n",
            "Trainable params: 92246 (360.34 KB)\n",
            "Non-trainable params: 0 (0.00 Byte)\n",
            "_________________________________________________________________\n",
            "None\n"
          ]
        }
      ],
      "source": [
        "#LeNet\n",
        "\n",
        "lenet = Sequential()\n",
        "lenet.add(Conv2D(6, kernel_size=5, strides=1,  activation='relu', input_shape=(32,32,3), padding='same'))  #C1\n",
        "lenet.add(AveragePooling2D())  #S1\n",
        "lenet.add(Conv2D(16, kernel_size=5, strides=1, activation='relu', padding='valid'))  #C2\n",
        "lenet.add(AveragePooling2D()) #S2\n",
        "lenet.add(Conv2D(120, kernel_size=5, strides=1, activation='relu', padding='valid')) #C3\n",
        "lenet.add(Flatten()) #Flatten\n",
        "lenet.add(Dense(84, activation='relu')) #F1\n",
        "lenet.add(Dense(10, activation='softmax')) #Output layer\n",
        "    # compile model\n",
        "opt = SGD(learning_rate=0.001, momentum=0.9)\n",
        "lenet.compile(optimizer=opt, loss='categorical_crossentropy', metrics=['accuracy'])\n",
        "print(lenet.summary())"
      ]
    },
    {
      "cell_type": "code",
      "execution_count": 11,
      "metadata": {
        "id": "ohB8tc1KjPJB",
        "colab": {
          "base_uri": "https://localhost:8080/"
        },
        "outputId": "9f71a79a-1666-478b-c0df-9055e169b0f3"
      },
      "outputs": [
        {
          "output_type": "stream",
          "name": "stdout",
          "text": [
            "Epoch 1/25\n",
            "625/625 [==============================] - 47s 74ms/step - loss: 2.2300 - accuracy: 0.1671 - val_loss: 2.1283 - val_accuracy: 0.2190\n",
            "Epoch 2/25\n",
            "625/625 [==============================] - 42s 67ms/step - loss: 1.9663 - accuracy: 0.2972 - val_loss: 1.8613 - val_accuracy: 0.3357\n",
            "Epoch 3/25\n",
            "625/625 [==============================] - 42s 68ms/step - loss: 1.7957 - accuracy: 0.3597 - val_loss: 1.7480 - val_accuracy: 0.3762\n",
            "Epoch 4/25\n",
            "625/625 [==============================] - 40s 64ms/step - loss: 1.6771 - accuracy: 0.4020 - val_loss: 1.6357 - val_accuracy: 0.4134\n",
            "Epoch 5/25\n",
            "625/625 [==============================] - 41s 65ms/step - loss: 1.5899 - accuracy: 0.4318 - val_loss: 1.5877 - val_accuracy: 0.4324\n",
            "Epoch 6/25\n",
            "625/625 [==============================] - 40s 65ms/step - loss: 1.5229 - accuracy: 0.4568 - val_loss: 1.5300 - val_accuracy: 0.4526\n",
            "Epoch 7/25\n",
            "625/625 [==============================] - 40s 64ms/step - loss: 1.4739 - accuracy: 0.4769 - val_loss: 1.5177 - val_accuracy: 0.4607\n",
            "Epoch 8/25\n",
            "625/625 [==============================] - 42s 67ms/step - loss: 1.4307 - accuracy: 0.4918 - val_loss: 1.4598 - val_accuracy: 0.4817\n",
            "Epoch 9/25\n",
            "625/625 [==============================] - 40s 63ms/step - loss: 1.3997 - accuracy: 0.5011 - val_loss: 1.4255 - val_accuracy: 0.4981\n",
            "Epoch 10/25\n",
            "625/625 [==============================] - 42s 67ms/step - loss: 1.3627 - accuracy: 0.5150 - val_loss: 1.4595 - val_accuracy: 0.4858\n",
            "Epoch 11/25\n",
            "625/625 [==============================] - 40s 64ms/step - loss: 1.3362 - accuracy: 0.5240 - val_loss: 1.3791 - val_accuracy: 0.5116\n",
            "Epoch 12/25\n",
            "625/625 [==============================] - 42s 67ms/step - loss: 1.3071 - accuracy: 0.5379 - val_loss: 1.3767 - val_accuracy: 0.5170\n",
            "Epoch 13/25\n",
            "625/625 [==============================] - 40s 64ms/step - loss: 1.2790 - accuracy: 0.5445 - val_loss: 1.3443 - val_accuracy: 0.5312\n",
            "Epoch 14/25\n",
            "625/625 [==============================] - 40s 63ms/step - loss: 1.2565 - accuracy: 0.5538 - val_loss: 1.3203 - val_accuracy: 0.5366\n",
            "Epoch 15/25\n",
            "625/625 [==============================] - 40s 63ms/step - loss: 1.2329 - accuracy: 0.5649 - val_loss: 1.3092 - val_accuracy: 0.5435\n",
            "Epoch 16/25\n",
            "625/625 [==============================] - 40s 63ms/step - loss: 1.2088 - accuracy: 0.5741 - val_loss: 1.3086 - val_accuracy: 0.5421\n",
            "Epoch 17/25\n",
            "625/625 [==============================] - 40s 63ms/step - loss: 1.1885 - accuracy: 0.5813 - val_loss: 1.3035 - val_accuracy: 0.5481\n",
            "Epoch 18/25\n",
            "625/625 [==============================] - 41s 65ms/step - loss: 1.1673 - accuracy: 0.5877 - val_loss: 1.2937 - val_accuracy: 0.5504\n",
            "Epoch 19/25\n",
            "625/625 [==============================] - 41s 66ms/step - loss: 1.1506 - accuracy: 0.5928 - val_loss: 1.2679 - val_accuracy: 0.5605\n",
            "Epoch 20/25\n",
            "625/625 [==============================] - 40s 63ms/step - loss: 1.1291 - accuracy: 0.6005 - val_loss: 1.2582 - val_accuracy: 0.5638\n",
            "Epoch 21/25\n",
            "625/625 [==============================] - 40s 64ms/step - loss: 1.1102 - accuracy: 0.6090 - val_loss: 1.2638 - val_accuracy: 0.5620\n",
            "Epoch 22/25\n",
            "625/625 [==============================] - 40s 64ms/step - loss: 1.0966 - accuracy: 0.6133 - val_loss: 1.2641 - val_accuracy: 0.5600\n",
            "Epoch 23/25\n",
            "625/625 [==============================] - 40s 63ms/step - loss: 1.0755 - accuracy: 0.6201 - val_loss: 1.2455 - val_accuracy: 0.5683\n",
            "Epoch 24/25\n",
            "625/625 [==============================] - 40s 63ms/step - loss: 1.0587 - accuracy: 0.6257 - val_loss: 1.2348 - val_accuracy: 0.5682\n",
            "Epoch 25/25\n",
            "625/625 [==============================] - 42s 68ms/step - loss: 1.0415 - accuracy: 0.6337 - val_loss: 1.2708 - val_accuracy: 0.5668\n"
          ]
        },
        {
          "output_type": "execute_result",
          "data": {
            "text/plain": [
              "<keras.src.callbacks.History at 0x788475ed84f0>"
            ]
          },
          "metadata": {},
          "execution_count": 11
        }
      ],
      "source": [
        "lenet.fit(x_train, y_train, epochs=25, batch_size=64, validation_split=0.2)"
      ]
    },
    {
      "cell_type": "code",
      "execution_count": 12,
      "metadata": {
        "id": "9ix0J0iVnj7l",
        "colab": {
          "base_uri": "https://localhost:8080/"
        },
        "outputId": "f44ee2ae-3d4f-4f95-86cc-6c9ba6477649"
      },
      "outputs": [
        {
          "output_type": "stream",
          "name": "stdout",
          "text": [
            "> 56.780\n"
          ]
        }
      ],
      "source": [
        "_, acc = lenet.evaluate(x_test, y_test, verbose=0)\n",
        "print('> %.3f' % (acc * 100.0))"
      ]
    },
    {
      "cell_type": "code",
      "execution_count": 13,
      "metadata": {
        "id": "fOk1FQp5jgX4"
      },
      "outputs": [],
      "source": [
        "#hist = lenet.fit(x_train, y_train, epochs=100, validation_data=(x_test, y_test),verbose=1)"
      ]
    },
    {
      "cell_type": "code",
      "execution_count": 14,
      "metadata": {
        "id": "--42B70hjHVW",
        "colab": {
          "base_uri": "https://localhost:8080/"
        },
        "outputId": "c674096a-5bcc-487e-ef4e-2d672eaeaeaa"
      },
      "outputs": [
        {
          "output_type": "stream",
          "name": "stdout",
          "text": [
            "Model: \"sequential_3\"\n",
            "_________________________________________________________________\n",
            " Layer (type)                Output Shape              Param #   \n",
            "=================================================================\n",
            " conv2d_12 (Conv2D)          (None, 8, 8, 16)          448       \n",
            "                                                                 \n",
            " max_pooling2d_3 (MaxPoolin  (None, 4, 4, 16)          0         \n",
            " g2D)                                                            \n",
            "                                                                 \n",
            " conv2d_13 (Conv2D)          (None, 4, 4, 60)          24060     \n",
            "                                                                 \n",
            " max_pooling2d_4 (MaxPoolin  (None, 2, 2, 60)          0         \n",
            " g2D)                                                            \n",
            "                                                                 \n",
            " conv2d_14 (Conv2D)          (None, 2, 2, 60)          32460     \n",
            "                                                                 \n",
            " conv2d_15 (Conv2D)          (None, 2, 2, 30)          16230     \n",
            "                                                                 \n",
            " conv2d_16 (Conv2D)          (None, 2, 2, 20)          5420      \n",
            "                                                                 \n",
            " max_pooling2d_5 (MaxPoolin  (None, 1, 1, 20)          0         \n",
            " g2D)                                                            \n",
            "                                                                 \n",
            " flatten_3 (Flatten)         (None, 20)                0         \n",
            "                                                                 \n",
            " dense_6 (Dense)             (None, 200)               4200      \n",
            "                                                                 \n",
            " dropout_4 (Dropout)         (None, 200)               0         \n",
            "                                                                 \n",
            " dense_7 (Dense)             (None, 200)               40200     \n",
            "                                                                 \n",
            " dropout_5 (Dropout)         (None, 200)               0         \n",
            "                                                                 \n",
            " dense_8 (Dense)             (None, 10)                2010      \n",
            "                                                                 \n",
            "=================================================================\n",
            "Total params: 125028 (488.39 KB)\n",
            "Trainable params: 125028 (488.39 KB)\n",
            "Non-trainable params: 0 (0.00 Byte)\n",
            "_________________________________________________________________\n",
            "None\n"
          ]
        }
      ],
      "source": [
        "#Define Alexnet Model\n",
        "AlexNet = Sequential()\n",
        "AlexNet.add(Conv2D(filters=16,kernel_size=(3,3),strides=(4,4),input_shape=(32,32,3), activation='relu'))\n",
        "AlexNet.add(MaxPooling2D(pool_size=(2,2),strides=(2,2)))\n",
        "AlexNet.add(Conv2D(60,(5,5),padding='same',activation='relu'))\n",
        "AlexNet.add(MaxPooling2D(pool_size=(2,2),strides=(2,2)))\n",
        "AlexNet.add(Conv2D(60,(3,3),padding='same',activation='relu'))\n",
        "AlexNet.add(Conv2D(30,(3,3),padding='same',activation='relu'))\n",
        "AlexNet.add(Conv2D(20,(3,3),padding='same',activation='relu'))\n",
        "AlexNet.add(MaxPooling2D(pool_size=(2,2),strides=(2,2)))\n",
        "AlexNet.add(Flatten())\n",
        "AlexNet.add(Dense(200, activation='relu'))\n",
        "AlexNet.add(Dropout(0.1))\n",
        "AlexNet.add(Dense(200, activation='relu'))\n",
        "AlexNet.add(Dropout(0.1))\n",
        "AlexNet.add(Dense(10,activation='softmax'))\n",
        "    # compile model\n",
        "opt = SGD(learning_rate=0.001, momentum=0.9)\n",
        "AlexNet.compile(optimizer=opt, loss='categorical_crossentropy', metrics=['accuracy'])\n",
        "print(AlexNet.summary())"
      ]
    },
    {
      "cell_type": "code",
      "execution_count": 15,
      "metadata": {
        "id": "3c9475f5nt-Z",
        "colab": {
          "base_uri": "https://localhost:8080/"
        },
        "outputId": "948d9ca1-86be-4006-c30a-c557cf4e359e"
      },
      "outputs": [
        {
          "output_type": "stream",
          "name": "stdout",
          "text": [
            "Epoch 1/100\n",
            "625/625 [==============================] - 12s 18ms/step - loss: 2.3011 - accuracy: 0.1177 - val_loss: 2.2989 - val_accuracy: 0.1457\n",
            "Epoch 2/100\n",
            "625/625 [==============================] - 11s 18ms/step - loss: 2.2956 - accuracy: 0.1491 - val_loss: 2.2897 - val_accuracy: 0.1720\n",
            "Epoch 3/100\n",
            "625/625 [==============================] - 10s 17ms/step - loss: 2.2745 - accuracy: 0.1651 - val_loss: 2.2404 - val_accuracy: 0.1643\n",
            "Epoch 4/100\n",
            "625/625 [==============================] - 11s 18ms/step - loss: 2.1584 - accuracy: 0.1795 - val_loss: 2.0868 - val_accuracy: 0.1996\n",
            "Epoch 5/100\n",
            "625/625 [==============================] - 10s 15ms/step - loss: 2.0604 - accuracy: 0.1996 - val_loss: 2.0187 - val_accuracy: 0.2178\n",
            "Epoch 6/100\n",
            "625/625 [==============================] - 10s 17ms/step - loss: 2.0218 - accuracy: 0.2100 - val_loss: 1.9894 - val_accuracy: 0.2261\n",
            "Epoch 7/100\n",
            "625/625 [==============================] - 11s 18ms/step - loss: 1.9881 - accuracy: 0.2233 - val_loss: 1.9855 - val_accuracy: 0.2333\n",
            "Epoch 8/100\n",
            "625/625 [==============================] - 11s 18ms/step - loss: 1.9506 - accuracy: 0.2389 - val_loss: 1.8983 - val_accuracy: 0.2650\n",
            "Epoch 9/100\n",
            "625/625 [==============================] - 11s 17ms/step - loss: 1.8947 - accuracy: 0.2582 - val_loss: 1.8474 - val_accuracy: 0.2869\n",
            "Epoch 10/100\n",
            "625/625 [==============================] - 11s 17ms/step - loss: 1.8365 - accuracy: 0.2836 - val_loss: 1.8207 - val_accuracy: 0.2937\n",
            "Epoch 11/100\n",
            "625/625 [==============================] - 10s 16ms/step - loss: 1.7724 - accuracy: 0.3113 - val_loss: 1.7183 - val_accuracy: 0.3397\n",
            "Epoch 12/100\n",
            "625/625 [==============================] - 10s 16ms/step - loss: 1.7262 - accuracy: 0.3312 - val_loss: 1.7051 - val_accuracy: 0.3577\n",
            "Epoch 13/100\n",
            "625/625 [==============================] - 10s 16ms/step - loss: 1.6864 - accuracy: 0.3517 - val_loss: 1.6893 - val_accuracy: 0.3643\n",
            "Epoch 14/100\n",
            "625/625 [==============================] - 11s 17ms/step - loss: 1.6559 - accuracy: 0.3688 - val_loss: 1.6575 - val_accuracy: 0.3726\n",
            "Epoch 15/100\n",
            "625/625 [==============================] - 10s 16ms/step - loss: 1.6166 - accuracy: 0.3862 - val_loss: 1.6027 - val_accuracy: 0.4001\n",
            "Epoch 16/100\n",
            "625/625 [==============================] - 10s 16ms/step - loss: 1.5896 - accuracy: 0.3975 - val_loss: 1.5881 - val_accuracy: 0.4045\n",
            "Epoch 17/100\n",
            "625/625 [==============================] - 10s 16ms/step - loss: 1.5650 - accuracy: 0.4069 - val_loss: 1.5489 - val_accuracy: 0.4211\n",
            "Epoch 18/100\n",
            "625/625 [==============================] - 11s 17ms/step - loss: 1.5324 - accuracy: 0.4213 - val_loss: 1.5097 - val_accuracy: 0.4417\n",
            "Epoch 19/100\n",
            "625/625 [==============================] - 11s 17ms/step - loss: 1.4965 - accuracy: 0.4383 - val_loss: 1.4976 - val_accuracy: 0.4435\n",
            "Epoch 20/100\n",
            "625/625 [==============================] - 10s 16ms/step - loss: 1.4689 - accuracy: 0.4498 - val_loss: 1.4752 - val_accuracy: 0.4642\n",
            "Epoch 21/100\n",
            "625/625 [==============================] - 11s 18ms/step - loss: 1.4384 - accuracy: 0.4614 - val_loss: 1.4543 - val_accuracy: 0.4678\n",
            "Epoch 22/100\n",
            "625/625 [==============================] - 10s 17ms/step - loss: 1.4179 - accuracy: 0.4685 - val_loss: 1.4376 - val_accuracy: 0.4698\n",
            "Epoch 23/100\n",
            "625/625 [==============================] - 11s 17ms/step - loss: 1.3911 - accuracy: 0.4800 - val_loss: 1.3994 - val_accuracy: 0.4830\n",
            "Epoch 24/100\n",
            "625/625 [==============================] - 11s 17ms/step - loss: 1.3655 - accuracy: 0.4909 - val_loss: 1.4491 - val_accuracy: 0.4710\n",
            "Epoch 25/100\n",
            "625/625 [==============================] - 11s 18ms/step - loss: 1.3455 - accuracy: 0.5004 - val_loss: 1.4086 - val_accuracy: 0.4876\n",
            "Epoch 26/100\n",
            "625/625 [==============================] - 11s 18ms/step - loss: 1.3280 - accuracy: 0.5064 - val_loss: 1.3722 - val_accuracy: 0.5036\n",
            "Epoch 27/100\n",
            "625/625 [==============================] - 11s 17ms/step - loss: 1.3011 - accuracy: 0.5181 - val_loss: 1.3534 - val_accuracy: 0.5088\n",
            "Epoch 28/100\n",
            "625/625 [==============================] - 10s 16ms/step - loss: 1.2843 - accuracy: 0.5247 - val_loss: 1.3946 - val_accuracy: 0.4902\n",
            "Epoch 29/100\n",
            "625/625 [==============================] - 10s 16ms/step - loss: 1.2647 - accuracy: 0.5356 - val_loss: 1.3560 - val_accuracy: 0.5125\n",
            "Epoch 30/100\n",
            "625/625 [==============================] - 11s 18ms/step - loss: 1.2507 - accuracy: 0.5390 - val_loss: 1.3555 - val_accuracy: 0.5132\n",
            "Epoch 31/100\n",
            "625/625 [==============================] - 11s 18ms/step - loss: 1.2401 - accuracy: 0.5424 - val_loss: 1.3292 - val_accuracy: 0.5229\n",
            "Epoch 32/100\n",
            "625/625 [==============================] - 11s 18ms/step - loss: 1.2155 - accuracy: 0.5525 - val_loss: 1.3306 - val_accuracy: 0.5191\n",
            "Epoch 33/100\n",
            "625/625 [==============================] - 11s 18ms/step - loss: 1.2073 - accuracy: 0.5567 - val_loss: 1.3620 - val_accuracy: 0.5082\n",
            "Epoch 34/100\n",
            "625/625 [==============================] - 10s 16ms/step - loss: 1.1865 - accuracy: 0.5641 - val_loss: 1.3288 - val_accuracy: 0.5178\n",
            "Epoch 35/100\n",
            "625/625 [==============================] - 10s 15ms/step - loss: 1.1786 - accuracy: 0.5680 - val_loss: 1.3615 - val_accuracy: 0.5092\n",
            "Epoch 36/100\n",
            "625/625 [==============================] - 11s 18ms/step - loss: 1.1660 - accuracy: 0.5734 - val_loss: 1.3253 - val_accuracy: 0.5254\n",
            "Epoch 37/100\n",
            "625/625 [==============================] - 10s 17ms/step - loss: 1.1535 - accuracy: 0.5784 - val_loss: 1.3306 - val_accuracy: 0.5237\n",
            "Epoch 38/100\n",
            "625/625 [==============================] - 11s 18ms/step - loss: 1.1379 - accuracy: 0.5823 - val_loss: 1.3311 - val_accuracy: 0.5265\n",
            "Epoch 39/100\n",
            "625/625 [==============================] - 11s 18ms/step - loss: 1.1235 - accuracy: 0.5907 - val_loss: 1.3548 - val_accuracy: 0.5261\n",
            "Epoch 40/100\n",
            "625/625 [==============================] - 11s 18ms/step - loss: 1.1174 - accuracy: 0.5921 - val_loss: 1.3164 - val_accuracy: 0.5352\n",
            "Epoch 41/100\n",
            "625/625 [==============================] - 10s 16ms/step - loss: 1.1096 - accuracy: 0.5958 - val_loss: 1.3204 - val_accuracy: 0.5301\n",
            "Epoch 42/100\n",
            "625/625 [==============================] - 11s 17ms/step - loss: 1.0882 - accuracy: 0.6017 - val_loss: 1.3255 - val_accuracy: 0.5328\n",
            "Epoch 43/100\n",
            "625/625 [==============================] - 10s 17ms/step - loss: 1.0813 - accuracy: 0.6072 - val_loss: 1.3456 - val_accuracy: 0.5341\n",
            "Epoch 44/100\n",
            "625/625 [==============================] - 11s 17ms/step - loss: 1.0680 - accuracy: 0.6125 - val_loss: 1.3210 - val_accuracy: 0.5361\n",
            "Epoch 45/100\n",
            "625/625 [==============================] - 11s 18ms/step - loss: 1.0556 - accuracy: 0.6163 - val_loss: 1.3303 - val_accuracy: 0.5385\n",
            "Epoch 46/100\n",
            "625/625 [==============================] - 11s 17ms/step - loss: 1.0516 - accuracy: 0.6198 - val_loss: 1.3046 - val_accuracy: 0.5385\n",
            "Epoch 47/100\n",
            "625/625 [==============================] - 10s 16ms/step - loss: 1.0341 - accuracy: 0.6252 - val_loss: 1.3227 - val_accuracy: 0.5388\n",
            "Epoch 48/100\n",
            "625/625 [==============================] - 10s 16ms/step - loss: 1.0172 - accuracy: 0.6324 - val_loss: 1.3346 - val_accuracy: 0.5341\n",
            "Epoch 49/100\n",
            "625/625 [==============================] - 11s 18ms/step - loss: 1.0157 - accuracy: 0.6310 - val_loss: 1.4030 - val_accuracy: 0.5202\n",
            "Epoch 50/100\n",
            "625/625 [==============================] - 11s 17ms/step - loss: 1.0029 - accuracy: 0.6357 - val_loss: 1.3362 - val_accuracy: 0.5384\n",
            "Epoch 51/100\n",
            "625/625 [==============================] - 11s 17ms/step - loss: 0.9990 - accuracy: 0.6386 - val_loss: 1.3574 - val_accuracy: 0.5290\n",
            "Epoch 52/100\n",
            "625/625 [==============================] - 10s 17ms/step - loss: 0.9820 - accuracy: 0.6432 - val_loss: 1.3492 - val_accuracy: 0.5355\n",
            "Epoch 53/100\n",
            "625/625 [==============================] - 10s 16ms/step - loss: 0.9710 - accuracy: 0.6483 - val_loss: 1.3339 - val_accuracy: 0.5408\n",
            "Epoch 54/100\n",
            "625/625 [==============================] - 11s 18ms/step - loss: 0.9601 - accuracy: 0.6519 - val_loss: 1.3379 - val_accuracy: 0.5379\n",
            "Epoch 55/100\n",
            "625/625 [==============================] - 11s 17ms/step - loss: 0.9554 - accuracy: 0.6536 - val_loss: 1.3979 - val_accuracy: 0.5343\n",
            "Epoch 56/100\n",
            "625/625 [==============================] - 11s 18ms/step - loss: 0.9495 - accuracy: 0.6590 - val_loss: 1.3658 - val_accuracy: 0.5366\n",
            "Epoch 57/100\n",
            "625/625 [==============================] - 11s 18ms/step - loss: 0.9310 - accuracy: 0.6654 - val_loss: 1.3646 - val_accuracy: 0.5405\n",
            "Epoch 58/100\n",
            "625/625 [==============================] - 11s 17ms/step - loss: 0.9301 - accuracy: 0.6641 - val_loss: 1.3536 - val_accuracy: 0.5419\n",
            "Epoch 59/100\n",
            "625/625 [==============================] - 10s 16ms/step - loss: 0.9172 - accuracy: 0.6695 - val_loss: 1.4172 - val_accuracy: 0.5354\n",
            "Epoch 60/100\n",
            "625/625 [==============================] - 11s 18ms/step - loss: 0.9012 - accuracy: 0.6756 - val_loss: 1.4740 - val_accuracy: 0.5272\n",
            "Epoch 61/100\n",
            "625/625 [==============================] - 11s 18ms/step - loss: 0.8935 - accuracy: 0.6785 - val_loss: 1.4077 - val_accuracy: 0.5396\n",
            "Epoch 62/100\n",
            "625/625 [==============================] - 11s 17ms/step - loss: 0.8786 - accuracy: 0.6831 - val_loss: 1.4021 - val_accuracy: 0.5361\n",
            "Epoch 63/100\n",
            "625/625 [==============================] - 11s 17ms/step - loss: 0.8702 - accuracy: 0.6880 - val_loss: 1.4224 - val_accuracy: 0.5373\n",
            "Epoch 64/100\n",
            "625/625 [==============================] - 10s 17ms/step - loss: 0.8665 - accuracy: 0.6882 - val_loss: 1.4292 - val_accuracy: 0.5284\n",
            "Epoch 65/100\n",
            "625/625 [==============================] - 9s 15ms/step - loss: 0.8640 - accuracy: 0.6884 - val_loss: 1.4019 - val_accuracy: 0.5396\n",
            "Epoch 66/100\n",
            "625/625 [==============================] - 11s 17ms/step - loss: 0.8524 - accuracy: 0.6938 - val_loss: 1.3999 - val_accuracy: 0.5401\n",
            "Epoch 67/100\n",
            "625/625 [==============================] - 11s 18ms/step - loss: 0.8407 - accuracy: 0.6975 - val_loss: 1.4442 - val_accuracy: 0.5397\n",
            "Epoch 68/100\n",
            "625/625 [==============================] - 11s 18ms/step - loss: 0.8277 - accuracy: 0.7017 - val_loss: 1.4389 - val_accuracy: 0.5313\n",
            "Epoch 69/100\n",
            "625/625 [==============================] - 11s 18ms/step - loss: 0.8166 - accuracy: 0.7075 - val_loss: 1.4882 - val_accuracy: 0.5300\n",
            "Epoch 70/100\n",
            "625/625 [==============================] - 10s 17ms/step - loss: 0.8103 - accuracy: 0.7087 - val_loss: 1.4472 - val_accuracy: 0.5375\n",
            "Epoch 71/100\n",
            "625/625 [==============================] - 10s 16ms/step - loss: 0.7947 - accuracy: 0.7153 - val_loss: 1.4824 - val_accuracy: 0.5326\n",
            "Epoch 72/100\n",
            "625/625 [==============================] - 11s 18ms/step - loss: 0.7884 - accuracy: 0.7173 - val_loss: 1.4775 - val_accuracy: 0.5339\n",
            "Epoch 73/100\n",
            "625/625 [==============================] - 11s 18ms/step - loss: 0.7765 - accuracy: 0.7212 - val_loss: 1.5460 - val_accuracy: 0.5218\n",
            "Epoch 74/100\n",
            "625/625 [==============================] - 11s 18ms/step - loss: 0.7679 - accuracy: 0.7265 - val_loss: 1.5130 - val_accuracy: 0.5316\n",
            "Epoch 75/100\n",
            "625/625 [==============================] - 11s 18ms/step - loss: 0.7600 - accuracy: 0.7276 - val_loss: 1.5154 - val_accuracy: 0.5320\n",
            "Epoch 76/100\n",
            "625/625 [==============================] - 10s 17ms/step - loss: 0.7535 - accuracy: 0.7287 - val_loss: 1.5296 - val_accuracy: 0.5321\n",
            "Epoch 77/100\n",
            "625/625 [==============================] - 10s 16ms/step - loss: 0.7502 - accuracy: 0.7316 - val_loss: 1.5702 - val_accuracy: 0.5321\n",
            "Epoch 78/100\n",
            "625/625 [==============================] - 11s 17ms/step - loss: 0.7309 - accuracy: 0.7387 - val_loss: 1.5704 - val_accuracy: 0.5290\n",
            "Epoch 79/100\n",
            "625/625 [==============================] - 11s 18ms/step - loss: 0.7247 - accuracy: 0.7401 - val_loss: 1.5936 - val_accuracy: 0.5297\n",
            "Epoch 80/100\n",
            "625/625 [==============================] - 11s 17ms/step - loss: 0.7154 - accuracy: 0.7425 - val_loss: 1.5538 - val_accuracy: 0.5415\n",
            "Epoch 81/100\n",
            "625/625 [==============================] - 11s 18ms/step - loss: 0.7037 - accuracy: 0.7487 - val_loss: 1.5939 - val_accuracy: 0.5342\n",
            "Epoch 82/100\n",
            "625/625 [==============================] - 11s 17ms/step - loss: 0.6988 - accuracy: 0.7505 - val_loss: 1.6646 - val_accuracy: 0.5307\n",
            "Epoch 83/100\n",
            "625/625 [==============================] - 10s 16ms/step - loss: 0.6880 - accuracy: 0.7541 - val_loss: 1.5822 - val_accuracy: 0.5232\n",
            "Epoch 84/100\n",
            "625/625 [==============================] - 10s 16ms/step - loss: 0.6760 - accuracy: 0.7581 - val_loss: 1.6120 - val_accuracy: 0.5301\n",
            "Epoch 85/100\n",
            "625/625 [==============================] - 11s 17ms/step - loss: 0.6706 - accuracy: 0.7619 - val_loss: 1.6206 - val_accuracy: 0.5288\n",
            "Epoch 86/100\n",
            "625/625 [==============================] - 11s 17ms/step - loss: 0.6568 - accuracy: 0.7656 - val_loss: 1.7142 - val_accuracy: 0.5167\n",
            "Epoch 87/100\n",
            "625/625 [==============================] - 11s 18ms/step - loss: 0.6548 - accuracy: 0.7653 - val_loss: 1.6696 - val_accuracy: 0.5224\n",
            "Epoch 88/100\n",
            "625/625 [==============================] - 11s 17ms/step - loss: 0.6415 - accuracy: 0.7674 - val_loss: 1.6863 - val_accuracy: 0.5261\n",
            "Epoch 89/100\n",
            "625/625 [==============================] - 9s 15ms/step - loss: 0.6333 - accuracy: 0.7730 - val_loss: 1.6728 - val_accuracy: 0.5258\n",
            "Epoch 90/100\n",
            "625/625 [==============================] - 12s 18ms/step - loss: 0.6238 - accuracy: 0.7778 - val_loss: 1.6979 - val_accuracy: 0.5280\n",
            "Epoch 91/100\n",
            "625/625 [==============================] - 11s 18ms/step - loss: 0.6240 - accuracy: 0.7792 - val_loss: 1.7349 - val_accuracy: 0.5256\n",
            "Epoch 92/100\n",
            "625/625 [==============================] - 11s 18ms/step - loss: 0.6112 - accuracy: 0.7800 - val_loss: 1.7704 - val_accuracy: 0.5280\n",
            "Epoch 93/100\n",
            "625/625 [==============================] - 12s 18ms/step - loss: 0.6076 - accuracy: 0.7818 - val_loss: 1.7908 - val_accuracy: 0.5180\n",
            "Epoch 94/100\n",
            "625/625 [==============================] - 12s 18ms/step - loss: 0.5862 - accuracy: 0.7901 - val_loss: 1.8352 - val_accuracy: 0.5202\n",
            "Epoch 95/100\n",
            "625/625 [==============================] - 11s 17ms/step - loss: 0.5924 - accuracy: 0.7886 - val_loss: 1.8451 - val_accuracy: 0.5155\n",
            "Epoch 96/100\n",
            "625/625 [==============================] - 10s 16ms/step - loss: 0.5793 - accuracy: 0.7907 - val_loss: 1.8437 - val_accuracy: 0.5241\n",
            "Epoch 97/100\n",
            "625/625 [==============================] - 11s 18ms/step - loss: 0.5656 - accuracy: 0.7986 - val_loss: 1.8130 - val_accuracy: 0.5254\n",
            "Epoch 98/100\n",
            "625/625 [==============================] - 11s 17ms/step - loss: 0.5613 - accuracy: 0.7993 - val_loss: 1.8526 - val_accuracy: 0.5201\n",
            "Epoch 99/100\n",
            "625/625 [==============================] - 11s 18ms/step - loss: 0.5631 - accuracy: 0.7977 - val_loss: 1.8765 - val_accuracy: 0.5124\n",
            "Epoch 100/100\n",
            "625/625 [==============================] - 11s 17ms/step - loss: 0.5460 - accuracy: 0.8050 - val_loss: 1.8563 - val_accuracy: 0.5172\n"
          ]
        },
        {
          "output_type": "execute_result",
          "data": {
            "text/plain": [
              "<keras.src.callbacks.History at 0x788475e5edd0>"
            ]
          },
          "metadata": {},
          "execution_count": 15
        }
      ],
      "source": [
        "AlexNet.fit(x_train, y_train, epochs=100, batch_size=64, validation_split=0.2)"
      ]
    },
    {
      "cell_type": "code",
      "execution_count": 16,
      "metadata": {
        "id": "uuw1sootnuDI",
        "colab": {
          "base_uri": "https://localhost:8080/"
        },
        "outputId": "22a131d7-4265-4ab7-a824-56c4137e58e5"
      },
      "outputs": [
        {
          "output_type": "stream",
          "name": "stdout",
          "text": [
            "> 52.340\n"
          ]
        }
      ],
      "source": [
        "_, acc = AlexNet.evaluate(x_test, y_test, verbose=0)\n",
        "print('> %.3f' % (acc * 100.0))"
      ]
    },
    {
      "cell_type": "code",
      "execution_count": 17,
      "metadata": {
        "id": "8LRYK16WjHhW"
      },
      "outputs": [],
      "source": [
        "#history1 = AlexNet.fit(x_train, y_train, epochs=100, validation_data=(x_test, y_test),verbose=1)"
      ]
    },
    {
      "cell_type": "code",
      "execution_count": 18,
      "metadata": {
        "id": "VEym_6zD0yxr"
      },
      "outputs": [],
      "source": [
        "history = model.fit(x_train, y_train, epochs=25, batch_size=64, validation_data=(x_test, y_test), verbose=0)"
      ]
    },
    {
      "cell_type": "code",
      "execution_count": 19,
      "metadata": {
        "colab": {
          "base_uri": "https://localhost:8080/",
          "height": 452
        },
        "id": "uXrmDrd611Ya",
        "outputId": "75bb38ca-86ca-44ed-e208-1879a29dc499"
      },
      "outputs": [
        {
          "output_type": "display_data",
          "data": {
            "text/plain": [
              "<Figure size 640x480 with 2 Axes>"
            ],
            "image/png": "[encoded data removed]"
          },
          "metadata": {}
        }
      ],
      "source": [
        "# plot diagnostic learning curves\n",
        "\n",
        "    # plot loss\n",
        "pyplot.subplot(211)\n",
        "pyplot.title('Cross Entropy Loss')\n",
        "pyplot.plot(history.history['loss'], color='blue', label='train')\n",
        "pyplot.plot(history.history['val_loss'], color='orange', label='test')\n",
        "    # plot accuracy\n",
        "pyplot.subplot(212)\n",
        "pyplot.title('Classification Accuracy')\n",
        "pyplot.plot(history.history['accuracy'], color='blue', label='train')\n",
        "pyplot.plot(history.history['val_accuracy'], color='orange', label='test')\n",
        "    # save plot to file\n",
        "filename = sys.argv[0].split('/')[-1]\n",
        "pyplot.savefig(filename + '_plot.png')\n"
      ]
    }
  ],
  "metadata": {
    "colab": {
      "provenance": []
    },
    "kernelspec": {
      "display_name": "Python 3",
      "name": "python3"
    },
    "language_info": {
      "name": "python"
    }
  },
  "nbformat": 4,
  "nbformat_minor": 0
}